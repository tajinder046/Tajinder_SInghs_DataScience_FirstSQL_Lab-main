{
 "cells": [
  {
   "cell_type": "markdown",
   "id": "1f359ff8",
   "metadata": {},
   "source": [
    "Problem Statement\n",
    "An E-commerce website manages its data in the form of various tables.\n",
    "You need to create a Database called e_commerce and various tables in it. The tables needed and attributes which need to be in every table are given before hand. All you have to do is create tables with data in it and answer some of the questions that follows."
   ]
  },
  {
   "cell_type": "code",
   "execution_count": 1,
   "id": "cfc004f1",
   "metadata": {},
   "outputs": [],
   "source": [
    "import mysql.connector as sql\n",
    "import pandas as pd"
   ]
  },
  {
   "cell_type": "code",
   "execution_count": 2,
   "id": "610b1b2f",
   "metadata": {},
   "outputs": [
    {
     "name": "stdout",
     "output_type": "stream",
     "text": [
      "<mysql.connector.connection.MySQLConnection object at 0x00000215C9C47DF0>\n"
     ]
    }
   ],
   "source": [
    "connection = sql.connect(host =\"localhost\",\n",
    "                         user =\"root\",\n",
    "                         password =\"rahika2020\",\n",
    "                         database = \"e_commerce4\")\n",
    "                        \n",
    "print(connection)\n",
    "                    "
   ]
  },
  {
   "cell_type": "code",
   "execution_count": 3,
   "id": "66e40d6b",
   "metadata": {},
   "outputs": [],
   "source": [
    "#Q1. Create tables for supplier, customer, category, product, productDetails, order, rating to store the data for the E-commerce with the schema definition given below.\n",
    "\n",
    "cursor = connection.cursor()\n",
    "\n",
    "cursor.execute(\"create table supplier(SUPP_ID int primary key, SUPP_NAME varchar(50), SUPP_CITY varchar(50), SUPP_PHONE varchar(100))\");\n"
   ]
  },
  {
   "cell_type": "code",
   "execution_count": 4,
   "id": "710ae939",
   "metadata": {},
   "outputs": [],
   "source": [
    "##Q2. Insert the following data in the table created above\n",
    "\n",
    "## Inserting data into \"Supplier\"\n",
    "    \n",
    "cursor= connection.cursor()\n",
    "\n",
    "insert_supplier = \"\"\"INSERT INTO supplier (SUPP_ID,SUPP_NAME,SUPP_CITY,SUPP_PHONE)\n",
    "                  VALUES (%s,%s,%s,%s)\"\"\"\n",
    "val = [(1,'Rajesh Retails','Delhi',12345678),\n",
    "       (2,'Appario Ltd.','Mumbai',25896314703),\n",
    "       (3,'Knome products','Bangalore',978546231),\n",
    "       (4,'Bansal Retails','Kochi',897546328),\n",
    "       (5,'Mittal Ltd.','Lucknow',789845653)]\n",
    " \n",
    "cursor.executemany(insert_supplier,val)\n",
    "connection.commit()"
   ]
  },
  {
   "cell_type": "code",
   "execution_count": 5,
   "id": "80a89bfb",
   "metadata": {},
   "outputs": [],
   "source": [
    " \n",
    "cursor = connection.cursor()\n",
    "\n",
    "cursor.execute(\"create table customer (CUS_ID INT NOT NULL, CUS_NAME VARCHAR(20) NULL DEFAULT NULL, CUS_PHONE VARCHAR(10), CUS_CITY varchar(30) ,CUS_GENDER CHAR,PRIMARY KEY (CUS_ID))\");\n"
   ]
  },
  {
   "cell_type": "code",
   "execution_count": 6,
   "id": "62e4bee8",
   "metadata": {},
   "outputs": [],
   "source": [
    "# insert into \"customer\" table\n",
    "\n",
    "cursor= connection.cursor()\n",
    "\n",
    "insert_customer = \"\"\"INSERT INTO customer (CUS_ID,CUS_NAME,CUS_PHONE,CUS_CITY,CUS_GENDER)\n",
    "                  VALUES (%s,%s,%s,%s,%s)\"\"\"\n",
    "val = [(1,'AAKASH',9999999999,'DELHI','M'),\n",
    "       (2,'AMAN',9785463215,'NOIDA','M'),\n",
    "       (3,'NEHA',9999999998,'MUMBAI','F'),\n",
    "       (4,'MEGHA',9994562399,'KOLKATA','F'),\n",
    "       (5,'PULKIT',7895999999,'LUCKNOW','M')]\n",
    " \n",
    "cursor.executemany(insert_customer, val)\n",
    "connection.commit()"
   ]
  },
  {
   "cell_type": "code",
   "execution_count": 8,
   "id": "f4c2b775",
   "metadata": {},
   "outputs": [],
   "source": [
    "   \n",
    "cursor = connection.cursor()\n",
    "\n",
    "cursor.execute(\"create table category (CAT_ID INT NOT NULL, CAT_NAME VARCHAR(20) NULL DEFAULT NULL,PRIMARY KEY (CAT_ID))\");\n"
   ]
  },
  {
   "cell_type": "code",
   "execution_count": 9,
   "id": "ab3d40b1",
   "metadata": {},
   "outputs": [],
   "source": [
    "\n",
    "# insert into \"category\" table\n",
    "\n",
    "cursor= connection.cursor()\n",
    "\n",
    "insert_category = \"\"\"INSERT INTO category (CAT_ID,CAT_NAME)\n",
    "                  VALUES (%s,%s)\"\"\"\n",
    "val = [(1,'BOOKS'),\n",
    "       (2,'GAMES'),\n",
    "       (3,'GROCERIES'),\n",
    "       (4,'ELECTRONICS'),\n",
    "       (5,'CLOTHES')]\n",
    " \n",
    "cursor.executemany(insert_category, val)\n",
    "connection.commit()"
   ]
  },
  {
   "cell_type": "code",
   "execution_count": 10,
   "id": "06a2e4f8",
   "metadata": {},
   "outputs": [],
   "source": [
    "  \n",
    "cursor = connection.cursor()\n",
    "\n",
    "cursor.execute(\"create table product (PRO_ID INT NOT NULL, PRO_NAME VARCHAR(20) NULL DEFAULT NULL, PRO_DESC VARCHAR(60) NULL DEFAULT NULL, CAT_ID INT NOT NULL,PRIMARY KEY (PRO_ID),FOREIGN KEY (CAT_ID) REFERENCES CATEGORY (CAT_ID))\");\n"
   ]
  },
  {
   "cell_type": "code",
   "execution_count": 11,
   "id": "fef9beb0",
   "metadata": {},
   "outputs": [],
   "source": [
    "\n",
    "# insert into \"product\" table\n",
    "\n",
    "cursor= connection.cursor()\n",
    "\n",
    "insert_product = \"\"\"INSERT INTO product (PRO_ID,PRO_NAME,PRO_DESC,CAT_ID)\n",
    "                  VALUES (%s,%s,%s,%s)\"\"\"\n",
    "val = [(1,'GTA V','DFJDJFDJFDJFDJFJF',2),\n",
    "       (2,'TSHIRT','DFDFJDFJDKFD',5),\n",
    "       (3,'ROG LAPTOP','DFNTTNTNTERND',4),\n",
    "       (4,'OATS','REURENTBTOTH',3),\n",
    "       (5,'HARRY POTTER','NBEMCTHTJTH',1)]\n",
    " \n",
    "cursor.executemany(insert_product, val)\n",
    "connection.commit()"
   ]
  },
  {
   "cell_type": "code",
   "execution_count": 12,
   "id": "bf17862a",
   "metadata": {},
   "outputs": [],
   "source": [
    " \n",
    "cursor = connection.cursor()\n",
    "\n",
    "cursor.execute(\"create table product_details(PROD_ID INT NOT NULL, PRO_ID INT NOT NULL, SUPP_ID INT NOT NULL, PROD_PRICE INT NOT NULL, PRIMARY KEY (PROD_ID),FOREIGN KEY (PRO_ID) REFERENCES PRODUCT (PRO_ID), FOREIGN KEY (SUPP_ID) REFERENCES SUPPLIER(SUPP_ID))\");\n"
   ]
  },
  {
   "cell_type": "code",
   "execution_count": 13,
   "id": "24a52f1e",
   "metadata": {},
   "outputs": [],
   "source": [
    "# insert into \"product_details\" table \n",
    "\n",
    "cursor= connection.cursor()\n",
    "\n",
    "insert_product_details = \"\"\"INSERT INTO product_details (PROD_ID,PRO_ID,SUPP_ID,PROD_PRICE)\n",
    "                  VALUES (%s,%s,%s,%s)\"\"\"\n",
    "val = [(1,1,2,1500),\n",
    "       (2,3,5,30000),\n",
    "       (3,5,1,3000),\n",
    "       (4,2,3,2500),\n",
    "       (5,4,1,1000)]\n",
    " \n",
    "cursor.executemany(insert_product_details, val)\n",
    "connection.commit()"
   ]
  },
  {
   "cell_type": "code",
   "execution_count": 14,
   "id": "23962fa9",
   "metadata": {},
   "outputs": [],
   "source": [
    "  \n",
    "cursor = connection.cursor()\n",
    "\n",
    "cursor.execute(\"create table orders (ORD_ID INT NOT NULL, ORD_AMOUNT INT NOT NULL, ORD_DATE DATE, CUS_ID INT NOT NULL, PROD_ID INT NOT NULL,PRIMARY KEY (ORD_ID),FOREIGN KEY (CUS_ID) REFERENCES CUSTOMER(CUS_ID),FOREIGN KEY (PROD_ID) REFERENCES PRODUCT_DETAILS(PROD_ID))\");\n"
   ]
  },
  {
   "cell_type": "code",
   "execution_count": 15,
   "id": "05eaa6f2",
   "metadata": {},
   "outputs": [],
   "source": [
    "#insert into \"orders\" table \n",
    "\n",
    "cursor= connection.cursor()\n",
    "\n",
    "insert_orders = \"\"\"INSERT INTO orders (ORD_ID,ORD_AMOUNT,ORD_DATE,CUS_ID,PROD_ID)\n",
    "                  VALUES (%s,%s,%s,%s,%s)\"\"\"\n",
    "val = [(20,1500,\"2021-10-12\",3,5),\n",
    "       (25,30500,\"2021-09-16\",5,2),\n",
    "       (26,2000,\"2021-10-05\",1,1),\n",
    "       (30,3500,\"2021-08-16\",4,3),\n",
    "       (50,2000,\"2021-10-06\",2,1)]\n",
    "\n",
    "cursor.executemany(insert_orders, val)\n",
    "connection.commit()"
   ]
  },
  {
   "cell_type": "code",
   "execution_count": 16,
   "id": "f7cc0f6d",
   "metadata": {},
   "outputs": [],
   "source": [
    " \n",
    "cursor = connection.cursor()\n",
    "\n",
    "cursor.execute(\"create table rating (RAT_ID INT NOT NULL, CUS_ID INT NOT NULL, SUPP_ID INT NOT NULL, RAT_RATSTARS INT NOT NULL,PRIMARY KEY (RAT_ID),FOREIGN KEY (SUPP_ID) REFERENCES SUPPLIER (SUPP_ID),FOREIGN KEY (CUS_ID) REFERENCES CUSTOMER(CUS_ID))\");\n"
   ]
  },
  {
   "cell_type": "code",
   "execution_count": 17,
   "id": "7e46c177",
   "metadata": {},
   "outputs": [],
   "source": [
    " # insert into \"rating\" table\n",
    "\n",
    "cursor= connection.cursor()\n",
    "\n",
    "insert_rating = \"\"\"INSERT INTO rating (RAT_ID,CUS_ID,SUPP_ID,RAT_RATSTARS)\n",
    "                  VALUES (%s,%s,%s,%s)\"\"\"\n",
    "val = [(1,2,2,4),\n",
    "       (3,5,1,5),\n",
    "       (4,1,3,2),\n",
    "       (5,4,5,4)]\n",
    " \n",
    "cursor.executemany(insert_rating, val)\n",
    "connection.commit()"
   ]
  },
  {
   "cell_type": "code",
   "execution_count": 18,
   "id": "82db1883",
   "metadata": {},
   "outputs": [
    {
     "data": {
      "text/html": [
       "<div>\n",
       "<style scoped>\n",
       "    .dataframe tbody tr th:only-of-type {\n",
       "        vertical-align: middle;\n",
       "    }\n",
       "\n",
       "    .dataframe tbody tr th {\n",
       "        vertical-align: top;\n",
       "    }\n",
       "\n",
       "    .dataframe thead th {\n",
       "        text-align: right;\n",
       "    }\n",
       "</style>\n",
       "<table border=\"1\" class=\"dataframe\">\n",
       "  <thead>\n",
       "    <tr style=\"text-align: right;\">\n",
       "      <th></th>\n",
       "      <th>CUS_GENDER</th>\n",
       "      <th>COUNT</th>\n",
       "    </tr>\n",
       "  </thead>\n",
       "  <tbody>\n",
       "    <tr>\n",
       "      <th>0</th>\n",
       "      <td>M</td>\n",
       "      <td>1</td>\n",
       "    </tr>\n",
       "    <tr>\n",
       "      <th>1</th>\n",
       "      <td>F</td>\n",
       "      <td>1</td>\n",
       "    </tr>\n",
       "  </tbody>\n",
       "</table>\n",
       "</div>"
      ],
      "text/plain": [
       "  CUS_GENDER  COUNT\n",
       "0          M      1\n",
       "1          F      1"
      ]
     },
     "execution_count": 18,
     "metadata": {},
     "output_type": "execute_result"
    }
   ],
   "source": [
    "## Q3) Display the number of the customer group by their genders who have placed any order of amount greater than or equal to Rs.3000.\n",
    "\n",
    "query3 = \"\"\"select customer.cus_gender,count(customer.cus_gender) as count from customer\n",
    "                            inner join `orders` on `customer`.cus_id = `orders`.cus_id\n",
    "                            where `orders`.ord_amount >= 3000 group by customer.cus_gender;\"\"\"\n",
    "\n",
    "cursor.execute(query3)\n",
    "output = cursor.fetchall()\n",
    "\n",
    "## Display Output\n",
    "\n",
    "output_df = pd.DataFrame(output, columns=['CUS_GENDER','COUNT'])\n",
    "output_df"
   ]
  },
  {
   "cell_type": "code",
   "execution_count": 19,
   "id": "585686ce",
   "metadata": {},
   "outputs": [
    {
     "data": {
      "text/html": [
       "<div>\n",
       "<style scoped>\n",
       "    .dataframe tbody tr th:only-of-type {\n",
       "        vertical-align: middle;\n",
       "    }\n",
       "\n",
       "    .dataframe tbody tr th {\n",
       "        vertical-align: top;\n",
       "    }\n",
       "\n",
       "    .dataframe thead th {\n",
       "        text-align: right;\n",
       "    }\n",
       "</style>\n",
       "<table border=\"1\" class=\"dataframe\">\n",
       "  <thead>\n",
       "    <tr style=\"text-align: right;\">\n",
       "      <th></th>\n",
       "      <th>ORD_ID</th>\n",
       "      <th>ORD_AMOUNT</th>\n",
       "      <th>ORD_DATE</th>\n",
       "      <th>CUS_ID</th>\n",
       "      <th>PRO_ID</th>\n",
       "      <th>PROD_NAME</th>\n",
       "    </tr>\n",
       "  </thead>\n",
       "  <tbody>\n",
       "    <tr>\n",
       "      <th>0</th>\n",
       "      <td>50</td>\n",
       "      <td>2000</td>\n",
       "      <td>2021-10-06</td>\n",
       "      <td>2</td>\n",
       "      <td>1</td>\n",
       "      <td>GTA V</td>\n",
       "    </tr>\n",
       "  </tbody>\n",
       "</table>\n",
       "</div>"
      ],
      "text/plain": [
       "   ORD_ID  ORD_AMOUNT    ORD_DATE  CUS_ID  PRO_ID PROD_NAME\n",
       "0      50        2000  2021-10-06       2       1     GTA V"
      ]
     },
     "execution_count": 19,
     "metadata": {},
     "output_type": "execute_result"
    }
   ],
   "source": [
    "## Q4) Display all the order along with product name ordered by a customer having Customer_Id=2;\n",
    "\n",
    "query4 = \"\"\"select `orders`.*, product.pro_name from `orders`, product_details, product where `orders`.cus_id = 2 and\n",
    "                               `orders`.prod_id = product_details.prod_id and product_details.prod_id = product.pro_id;\"\"\"\n",
    "\n",
    "cursor.execute(query4)\n",
    "output = cursor.fetchall()\n",
    "\n",
    "## Display Output\n",
    "\n",
    "output_df = pd.DataFrame(output, columns=['ORD_ID','ORD_AMOUNT','ORD_DATE','CUS_ID','PRO_ID','PROD_NAME'])\n",
    "output_df\n"
   ]
  },
  {
   "cell_type": "code",
   "execution_count": 20,
   "id": "244f13e8",
   "metadata": {},
   "outputs": [
    {
     "data": {
      "text/html": [
       "<div>\n",
       "<style scoped>\n",
       "    .dataframe tbody tr th:only-of-type {\n",
       "        vertical-align: middle;\n",
       "    }\n",
       "\n",
       "    .dataframe tbody tr th {\n",
       "        vertical-align: top;\n",
       "    }\n",
       "\n",
       "    .dataframe thead th {\n",
       "        text-align: right;\n",
       "    }\n",
       "</style>\n",
       "<table border=\"1\" class=\"dataframe\">\n",
       "  <thead>\n",
       "    <tr style=\"text-align: right;\">\n",
       "      <th></th>\n",
       "      <th>SUPP_ID</th>\n",
       "      <th>SUPP_NAME</th>\n",
       "      <th>SUPP_CITY</th>\n",
       "      <th>SUPP_PHONE</th>\n",
       "    </tr>\n",
       "  </thead>\n",
       "  <tbody>\n",
       "    <tr>\n",
       "      <th>0</th>\n",
       "      <td>1</td>\n",
       "      <td>Rajesh Retails</td>\n",
       "      <td>Delhi</td>\n",
       "      <td>12345678</td>\n",
       "    </tr>\n",
       "  </tbody>\n",
       "</table>\n",
       "</div>"
      ],
      "text/plain": [
       "   SUPP_ID       SUPP_NAME SUPP_CITY SUPP_PHONE\n",
       "0        1  Rajesh Retails     Delhi   12345678"
      ]
     },
     "execution_count": 20,
     "metadata": {},
     "output_type": "execute_result"
    }
   ],
   "source": [
    "## Q5) Display the Supplier details who can supply more than one product.\n",
    "\n",
    "query5 = \"\"\"select supplier.* from supplier, product_details where supplier.SUPP_ID in \n",
    "                                 (select product_details.SUPP_ID from product_details group by product_details.SUPP_ID having\n",
    "                                 count(product_details.SUPP_ID)> 1) group by supplier.SUPP_ID;\"\"\"\n",
    "\n",
    "cursor.execute(query5)\n",
    "output = cursor.fetchall()\n",
    "\n",
    "## Display Output\n",
    "\n",
    "output_df = pd.DataFrame(output, columns=['SUPP_ID','SUPP_NAME','SUPP_CITY','SUPP_PHONE'])\n",
    "output_df"
   ]
  },
  {
   "cell_type": "code",
   "execution_count": 21,
   "id": "bfeb1ea9",
   "metadata": {},
   "outputs": [
    {
     "data": {
      "text/html": [
       "<div>\n",
       "<style scoped>\n",
       "    .dataframe tbody tr th:only-of-type {\n",
       "        vertical-align: middle;\n",
       "    }\n",
       "\n",
       "    .dataframe tbody tr th {\n",
       "        vertical-align: top;\n",
       "    }\n",
       "\n",
       "    .dataframe thead th {\n",
       "        text-align: right;\n",
       "    }\n",
       "</style>\n",
       "<table border=\"1\" class=\"dataframe\">\n",
       "  <thead>\n",
       "    <tr style=\"text-align: right;\">\n",
       "      <th></th>\n",
       "      <th>CAT_ID</th>\n",
       "      <th>CAT_NAME</th>\n",
       "    </tr>\n",
       "  </thead>\n",
       "  <tbody>\n",
       "    <tr>\n",
       "      <th>0</th>\n",
       "      <td>1</td>\n",
       "      <td>BOOKS</td>\n",
       "    </tr>\n",
       "  </tbody>\n",
       "</table>\n",
       "</div>"
      ],
      "text/plain": [
       "   CAT_ID CAT_NAME\n",
       "0       1    BOOKS"
      ]
     },
     "execution_count": 21,
     "metadata": {},
     "output_type": "execute_result"
    }
   ],
   "source": [
    "## Q6) Find the category of the product whose order amount is minimum.\n",
    "\n",
    "query6 = \"\"\"select category.* \n",
    "                         from `orders` inner join product_details on \n",
    "                         `orders`.prod_id = product_details.prod_id inner join product on \n",
    "                          product.pro_id = product_details.pro_id inner join category on\n",
    "                          category.cat_id = product.cat_id \n",
    "                          having min(`orders`.ord_amount);\"\"\"\n",
    "\n",
    "cursor.execute(query6)\n",
    "output = cursor.fetchall()\n",
    "\n",
    "## Display Output\n",
    "\n",
    "output_df = pd.DataFrame(output, columns=['CAT_ID','CAT_NAME'])\n",
    "output_df"
   ]
  },
  {
   "cell_type": "code",
   "execution_count": 22,
   "id": "d6c864ee",
   "metadata": {},
   "outputs": [
    {
     "data": {
      "text/html": [
       "<div>\n",
       "<style scoped>\n",
       "    .dataframe tbody tr th:only-of-type {\n",
       "        vertical-align: middle;\n",
       "    }\n",
       "\n",
       "    .dataframe tbody tr th {\n",
       "        vertical-align: top;\n",
       "    }\n",
       "\n",
       "    .dataframe thead th {\n",
       "        text-align: right;\n",
       "    }\n",
       "</style>\n",
       "<table border=\"1\" class=\"dataframe\">\n",
       "  <thead>\n",
       "    <tr style=\"text-align: right;\">\n",
       "      <th></th>\n",
       "      <th>PRO_ID</th>\n",
       "      <th>PRO_NAME</th>\n",
       "    </tr>\n",
       "  </thead>\n",
       "  <tbody>\n",
       "    <tr>\n",
       "      <th>0</th>\n",
       "      <td>4</td>\n",
       "      <td>OATS</td>\n",
       "    </tr>\n",
       "    <tr>\n",
       "      <th>1</th>\n",
       "      <td>1</td>\n",
       "      <td>GTA V</td>\n",
       "    </tr>\n",
       "  </tbody>\n",
       "</table>\n",
       "</div>"
      ],
      "text/plain": [
       "   PRO_ID PRO_NAME\n",
       "0       4     OATS\n",
       "1       1    GTA V"
      ]
     },
     "execution_count": 22,
     "metadata": {},
     "output_type": "execute_result"
    }
   ],
   "source": [
    "# Q7) Display the Id and Name of the Product ordered after “2021-10-05”.\n",
    "\n",
    "query7 = \"\"\"select product.pro_id, product.pro_name from `orders` inner join product_details on \n",
    "                            product_details.prod_id = `orders`.prod_id inner join product on \n",
    "                            product.pro_id = product_details.pro_id where `orders`.ord_date > \"2021-10-05\";\"\"\"\n",
    "\n",
    "cursor.execute(query7)\n",
    "output = cursor.fetchall()\n",
    "\n",
    "## Display Output\n",
    "\n",
    "output_df = pd.DataFrame(output, columns=['PRO_ID','PRO_NAME'])\n",
    "output_df"
   ]
  },
  {
   "cell_type": "code",
   "execution_count": 23,
   "id": "1308ad34",
   "metadata": {},
   "outputs": [
    {
     "data": {
      "text/html": [
       "<div>\n",
       "<style scoped>\n",
       "    .dataframe tbody tr th:only-of-type {\n",
       "        vertical-align: middle;\n",
       "    }\n",
       "\n",
       "    .dataframe tbody tr th {\n",
       "        vertical-align: top;\n",
       "    }\n",
       "\n",
       "    .dataframe thead th {\n",
       "        text-align: right;\n",
       "    }\n",
       "</style>\n",
       "<table border=\"1\" class=\"dataframe\">\n",
       "  <thead>\n",
       "    <tr style=\"text-align: right;\">\n",
       "      <th></th>\n",
       "      <th>SUPP_ID</th>\n",
       "      <th>SUPP_NAME</th>\n",
       "    </tr>\n",
       "  </thead>\n",
       "  <tbody>\n",
       "    <tr>\n",
       "      <th>0</th>\n",
       "      <td>4</td>\n",
       "      <td>OATS</td>\n",
       "    </tr>\n",
       "    <tr>\n",
       "      <th>1</th>\n",
       "      <td>1</td>\n",
       "      <td>GTA V</td>\n",
       "    </tr>\n",
       "  </tbody>\n",
       "</table>\n",
       "</div>"
      ],
      "text/plain": [
       "   SUPP_ID SUPP_NAME\n",
       "0        4      OATS\n",
       "1        1     GTA V"
      ]
     },
     "execution_count": 23,
     "metadata": {},
     "output_type": "execute_result"
    }
   ],
   "source": [
    "## Q8) Print the top 3 supplier name and id and rating on the basis of their rating along with the customer name who has given the rating.\n",
    "\n",
    "query8 = \"\"\"select supplier.supp_id,supplier.supp_name,customer.cus_name,rating.rat_ratstars\n",
    "                      from rating inner join supplier on rating.supp_id=suppler.supp_id\n",
    "                      inner join customer on rating.cus_id=customer.cus_id order by rating.rat_ratstars desc limit 3;\"\"\"\n",
    "\n",
    "cursor.execute(query7)\n",
    "output = cursor.fetchall()\n",
    "\n",
    "## Display Output\n",
    "\n",
    "output_df = pd.DataFrame(output, columns=['SUPP_ID','SUPP_NAME'])\n",
    "output_df"
   ]
  },
  {
   "cell_type": "code",
   "execution_count": 24,
   "id": "65f7ae41",
   "metadata": {},
   "outputs": [
    {
     "data": {
      "text/html": [
       "<div>\n",
       "<style scoped>\n",
       "    .dataframe tbody tr th:only-of-type {\n",
       "        vertical-align: middle;\n",
       "    }\n",
       "\n",
       "    .dataframe tbody tr th {\n",
       "        vertical-align: top;\n",
       "    }\n",
       "\n",
       "    .dataframe thead th {\n",
       "        text-align: right;\n",
       "    }\n",
       "</style>\n",
       "<table border=\"1\" class=\"dataframe\">\n",
       "  <thead>\n",
       "    <tr style=\"text-align: right;\">\n",
       "      <th></th>\n",
       "      <th>CUS_NAME</th>\n",
       "      <th>CUS_GENDER</th>\n",
       "    </tr>\n",
       "  </thead>\n",
       "  <tbody>\n",
       "    <tr>\n",
       "      <th>0</th>\n",
       "      <td>AAKASH</td>\n",
       "      <td>M</td>\n",
       "    </tr>\n",
       "    <tr>\n",
       "      <th>1</th>\n",
       "      <td>AMAN</td>\n",
       "      <td>M</td>\n",
       "    </tr>\n",
       "    <tr>\n",
       "      <th>2</th>\n",
       "      <td>NEHA</td>\n",
       "      <td>F</td>\n",
       "    </tr>\n",
       "    <tr>\n",
       "      <th>3</th>\n",
       "      <td>MEGHA</td>\n",
       "      <td>F</td>\n",
       "    </tr>\n",
       "  </tbody>\n",
       "</table>\n",
       "</div>"
      ],
      "text/plain": [
       "  CUS_NAME CUS_GENDER\n",
       "0   AAKASH          M\n",
       "1     AMAN          M\n",
       "2     NEHA          F\n",
       "3    MEGHA          F"
      ]
     },
     "execution_count": 24,
     "metadata": {},
     "output_type": "execute_result"
    }
   ],
   "source": [
    "#Query9 : Display customer name and gender whose names start or end with character 'A'.  \n",
    "\n",
    "query9 = \"\"\"select customer.cus_name, customer.cus_gender from customer where customer.cus_name like 'A%' or customer.cus_name like '%A';\"\"\"\n",
    "\n",
    "cursor.execute(query9)\n",
    "output = cursor.fetchall()\n",
    "\n",
    "## Display Output\n",
    "\n",
    "output_df = pd.DataFrame(output, columns=['CUS_NAME','CUS_GENDER'])\n",
    "output_df"
   ]
  },
  {
   "cell_type": "code",
   "execution_count": 25,
   "id": "5f7ac2b4",
   "metadata": {},
   "outputs": [
    {
     "data": {
      "text/html": [
       "<div>\n",
       "<style scoped>\n",
       "    .dataframe tbody tr th:only-of-type {\n",
       "        vertical-align: middle;\n",
       "    }\n",
       "\n",
       "    .dataframe tbody tr th {\n",
       "        vertical-align: top;\n",
       "    }\n",
       "\n",
       "    .dataframe thead th {\n",
       "        text-align: right;\n",
       "    }\n",
       "</style>\n",
       "<table border=\"1\" class=\"dataframe\">\n",
       "  <thead>\n",
       "    <tr style=\"text-align: right;\">\n",
       "      <th></th>\n",
       "      <th>ORDERS_AMOUNT</th>\n",
       "    </tr>\n",
       "  </thead>\n",
       "  <tbody>\n",
       "    <tr>\n",
       "      <th>0</th>\n",
       "      <td>34500</td>\n",
       "    </tr>\n",
       "  </tbody>\n",
       "</table>\n",
       "</div>"
      ],
      "text/plain": [
       "  ORDERS_AMOUNT\n",
       "0         34500"
      ]
     },
     "execution_count": 25,
     "metadata": {},
     "output_type": "execute_result"
    }
   ],
   "source": [
    "## Q10) Display the total order amount of the male customers.\n",
    "\n",
    "query10 = \"\"\"select sum(orders.ord_amount) as amount\n",
    "                         from orders inner join customer on orders.cus_id=customer.cus_id where customer.cus_gender='M';\"\"\"\n",
    "\n",
    "cursor.execute(query10)\n",
    "output = cursor.fetchall()\n",
    "\n",
    "## Display Output\n",
    "\n",
    "output_df = pd.DataFrame(output, columns=['ORDERS_AMOUNT'])\n",
    "output_df"
   ]
  },
  {
   "cell_type": "code",
   "execution_count": 26,
   "id": "9bbc67bc",
   "metadata": {},
   "outputs": [
    {
     "data": {
      "text/html": [
       "<div>\n",
       "<style scoped>\n",
       "    .dataframe tbody tr th:only-of-type {\n",
       "        vertical-align: middle;\n",
       "    }\n",
       "\n",
       "    .dataframe tbody tr th {\n",
       "        vertical-align: top;\n",
       "    }\n",
       "\n",
       "    .dataframe thead th {\n",
       "        text-align: right;\n",
       "    }\n",
       "</style>\n",
       "<table border=\"1\" class=\"dataframe\">\n",
       "  <thead>\n",
       "    <tr style=\"text-align: right;\">\n",
       "      <th></th>\n",
       "      <th>CUS_ID</th>\n",
       "      <th>CUS_NAME</th>\n",
       "      <th>CUS_PHONE</th>\n",
       "      <th>CUS_CITY</th>\n",
       "      <th>CUS_GENDER</th>\n",
       "      <th>ORD_ID</th>\n",
       "      <th>ORD_AMOUNT</th>\n",
       "      <th>ORD_DATE</th>\n",
       "      <th>RAT_RATSTARS</th>\n",
       "      <th>VERDICT</th>\n",
       "    </tr>\n",
       "  </thead>\n",
       "  <tbody>\n",
       "    <tr>\n",
       "      <th>0</th>\n",
       "      <td>1</td>\n",
       "      <td>AAKASH</td>\n",
       "      <td>9999999999</td>\n",
       "      <td>DELHI</td>\n",
       "      <td>M</td>\n",
       "      <td>26</td>\n",
       "      <td>2000</td>\n",
       "      <td>2021-10-05</td>\n",
       "      <td>1</td>\n",
       "      <td>1</td>\n",
       "    </tr>\n",
       "    <tr>\n",
       "      <th>1</th>\n",
       "      <td>2</td>\n",
       "      <td>AMAN</td>\n",
       "      <td>9785463215</td>\n",
       "      <td>NOIDA</td>\n",
       "      <td>M</td>\n",
       "      <td>50</td>\n",
       "      <td>2000</td>\n",
       "      <td>2021-10-06</td>\n",
       "      <td>2</td>\n",
       "      <td>1</td>\n",
       "    </tr>\n",
       "    <tr>\n",
       "      <th>2</th>\n",
       "      <td>3</td>\n",
       "      <td>NEHA</td>\n",
       "      <td>9999999998</td>\n",
       "      <td>MUMBAI</td>\n",
       "      <td>F</td>\n",
       "      <td>20</td>\n",
       "      <td>1500</td>\n",
       "      <td>2021-10-12</td>\n",
       "      <td>3</td>\n",
       "      <td>5</td>\n",
       "    </tr>\n",
       "    <tr>\n",
       "      <th>3</th>\n",
       "      <td>4</td>\n",
       "      <td>MEGHA</td>\n",
       "      <td>9994562399</td>\n",
       "      <td>KOLKATA</td>\n",
       "      <td>F</td>\n",
       "      <td>30</td>\n",
       "      <td>3500</td>\n",
       "      <td>2021-08-16</td>\n",
       "      <td>4</td>\n",
       "      <td>3</td>\n",
       "    </tr>\n",
       "    <tr>\n",
       "      <th>4</th>\n",
       "      <td>5</td>\n",
       "      <td>PULKIT</td>\n",
       "      <td>7895999999</td>\n",
       "      <td>LUCKNOW</td>\n",
       "      <td>M</td>\n",
       "      <td>25</td>\n",
       "      <td>30500</td>\n",
       "      <td>2021-09-16</td>\n",
       "      <td>5</td>\n",
       "      <td>2</td>\n",
       "    </tr>\n",
       "  </tbody>\n",
       "</table>\n",
       "</div>"
      ],
      "text/plain": [
       "   CUS_ID CUS_NAME   CUS_PHONE CUS_CITY CUS_GENDER  ORD_ID  ORD_AMOUNT  \\\n",
       "0       1   AAKASH  9999999999    DELHI          M      26        2000   \n",
       "1       2     AMAN  9785463215    NOIDA          M      50        2000   \n",
       "2       3     NEHA  9999999998   MUMBAI          F      20        1500   \n",
       "3       4    MEGHA  9994562399  KOLKATA          F      30        3500   \n",
       "4       5   PULKIT  7895999999  LUCKNOW          M      25       30500   \n",
       "\n",
       "     ORD_DATE  RAT_RATSTARS  VERDICT  \n",
       "0  2021-10-05             1        1  \n",
       "1  2021-10-06             2        1  \n",
       "2  2021-10-12             3        5  \n",
       "3  2021-08-16             4        3  \n",
       "4  2021-09-16             5        2  "
      ]
     },
     "execution_count": 26,
     "metadata": {},
     "output_type": "execute_result"
    }
   ],
   "source": [
    "## Q11) Display all the Customers left outer join with the orders\n",
    "\n",
    "query11 = \"\"\"select * from customer left outer join orders on customer.cus_id=orders.cus_id;\"\"\"\n",
    "\n",
    "\n",
    "cursor.execute(query11)\n",
    "output = cursor.fetchall()\n",
    "\n",
    "## Display Output,,,CUS_ID,PROD_ID\n",
    "\n",
    "output_df = pd.DataFrame(output, columns=['CUS_ID','CUS_NAME','CUS_PHONE','CUS_CITY','CUS_GENDER','ORD_ID','ORD_AMOUNT','ORD_DATE','RAT_RATSTARS','VERDICT'])\n",
    "output_df"
   ]
  },
  {
   "cell_type": "code",
   "execution_count": null,
   "id": "553bdaa0",
   "metadata": {},
   "outputs": [],
   "source": []
  }
 ],
 "metadata": {
  "kernelspec": {
   "display_name": "Python 3 (ipykernel)",
   "language": "python",
   "name": "python3"
  },
  "language_info": {
   "codemirror_mode": {
    "name": "ipython",
    "version": 3
   },
   "file_extension": ".py",
   "mimetype": "text/x-python",
   "name": "python",
   "nbconvert_exporter": "python",
   "pygments_lexer": "ipython3",
   "version": "3.9.12"
  }
 },
 "nbformat": 4,
 "nbformat_minor": 5
}
